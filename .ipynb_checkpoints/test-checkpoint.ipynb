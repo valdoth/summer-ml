{
 "cells": [
  {
   "cell_type": "markdown",
   "id": "d04f30c3",
   "metadata": {},
   "source": [
    "Alohan'ny mamerina dia avereno atao Run ny notebook iray manontolo. Ny fanaovana azy dia redémarrena mihitsy ny kernel aloha (jereo menubar, safidio **Kernel$\\rightarrow$Restart Kernel and Run All Cells**).\n",
    "\n",
    "Izay misy hoe `YOUR CODE HERE` na \"YOUR ANSWER HERE\" ihany no fenoina. Afaka manampy cells vaovao raha ilaina. Aza adino ny mameno references eo ambany raha ilaina."
   ]
  },
  {
   "cell_type": "markdown",
   "id": "5f96b59c",
   "metadata": {},
   "source": [
    "## References\n",
    "Eto ilay references rehetra no apetraka"
   ]
  },
  {
   "cell_type": "markdown",
   "id": "10f62ed8",
   "metadata": {},
   "source": [
    "---"
   ]
  },
  {
   "cell_type": "code",
   "execution_count": 51,
   "id": "7e3916a3-2066-41ab-a3ae-5dbdfe2542ae",
   "metadata": {
    "deletable": false,
    "editable": false,
    "nbgrader": {
     "cell_type": "code",
     "checksum": "ef19c89772c1ffe84f76e416f28cb05c",
     "grade": false,
     "grade_id": "cell-4d0e97772afb86be",
     "locked": true,
     "schema_version": 3,
     "solution": false,
     "task": false
    },
    "tags": []
   },
   "outputs": [],
   "source": [
    "import numpy as np\n",
    "import scipy\n",
    "from sklearn.metrics import mean_squared_error\n",
    "from sklearn import datasets\n",
    "from sklearn.linear_model import Ridge \n",
    "from sklearn.datasets import load_breast_cancer, load_diabetes\n",
    "from sklearn.metrics import accuracy_score\n",
    "import cvxpy as cp\n",
    "\n",
    "\n",
    "def rel_error(x, y):\n",
    "  \"\"\" returns relative error \"\"\"\n",
    "  return np.max(np.abs(x - y) / (np.maximum(1e-8, np.abs(x) + np.abs(y))))\n",
    "\n",
    "data = datasets.load_diabetes()\n",
    "X_train, y_train = data.data, data.target"
   ]
  },
  {
   "cell_type": "markdown",
   "id": "d9491efe-191a-4334-b8af-99071b1f03f7",
   "metadata": {},
   "source": [
    "# Ridge regression"
   ]
  },
  {
   "cell_type": "code",
   "execution_count": 56,
   "id": "85ce3a34-d660-4b37-a64d-5727e6f61984",
   "metadata": {
    "deletable": false,
    "nbgrader": {
     "cell_type": "code",
     "checksum": "58d25b10cfc483fcf7b2c5f184f0ce0c",
     "grade": false,
     "grade_id": "cell-3c4f6bfe7003b341",
     "locked": false,
     "schema_version": 3,
     "solution": true,
     "task": false
    },
    "tags": []
   },
   "outputs": [],
   "source": [
    "def fit_svd(X, y, alpha=1.0):\n",
    "    \"\"\"SVD approach\"\"\"\n",
    "    # YOUR CODE HERE\n",
    "    U, S, V = np.linalg.svd(X, full_matrices=False)\n",
    "    S = np.diag(S)\n",
    "    R = U@S\n",
    "    w = np.dot(V.T@np.linalg.inv((R.T@R + alpha*np.eye(X.shape[1]))), (R.T@y) )\n",
    "    return w"
   ]
  },
  {
   "cell_type": "code",
   "execution_count": 57,
   "id": "1f09da41-d5f3-439f-8647-3e1bd5dbbe18",
   "metadata": {
    "deletable": false,
    "editable": false,
    "nbgrader": {
     "cell_type": "code",
     "checksum": "dc73863409b71f673c365b6ce972709d",
     "grade": true,
     "grade_id": "cell-c7ac02ba17878c3c",
     "locked": true,
     "points": 4,
     "schema_version": 3,
     "solution": false,
     "task": false
    },
    "tags": []
   },
   "outputs": [],
   "source": [
    "w = fit_svd(X_train, y_train, alpha=0.1)"
   ]
  },
  {
   "cell_type": "markdown",
   "id": "8489acf6-8b3c-4c9b-a909-a252824c48db",
   "metadata": {},
   "source": [
    "# Linear program"
   ]
  },
  {
   "cell_type": "markdown",
   "id": "2cadfa1f-121b-40e5-88d5-cbe6567b00e7",
   "metadata": {},
   "source": [
    "Dora produit 2 types de glaces: \"simple\" et au \"chocolat\" à partir de sucre, de lait et de chocolat. Afin de produire 1 Kg de glace simple, il faut 2 Kg de sucre et 1 L de lait. 1 Kg de glace au chocolat requiert 1Kg de sucre, 2 L de lait et 1Kg de chocolat.\n",
    "\n",
    "On dispose de 800 Kg de sucre, 700 L de Lait et 300 Kg de chocolat. La vente de 1 Kg de glace simple et au chocolat rapporte respectivement 4000 Ar et 5000 Ar. Dora souhaite maximiser son profit.\n",
    "\n",
    "Trouver la quantité optimale de glace à produire pour chaque type."
   ]
  },
  {
   "cell_type": "code",
   "execution_count": 70,
   "id": "77ca0ad8-4c68-46aa-af72-2b15a767b713",
   "metadata": {
    "deletable": false,
    "nbgrader": {
     "cell_type": "code",
     "checksum": "3044281306515c2680f45b380e3f7ad0",
     "grade": false,
     "grade_id": "cell-d777ddddd471e4e1",
     "locked": false,
     "schema_version": 3,
     "solution": true,
     "task": false
    }
   },
   "outputs": [],
   "source": [
    "opt_solution = None\n",
    "# YOUR CODE HERE\n",
    "x = cp.Variable(2)\n",
    "cost = np.array([4000, 5000]) @ x\n",
    "objective = cp.Maximize(cost)\n",
    "A = np.array([[2,1], [1,2], [0, 1]])\n",
    "b = np.array([800, 700, 300])\n",
    "contraints = [A@x <= b]\n",
    "\n",
    "problem = cp.Problem(objective, contraints)\n",
    "result = problem.solve()\n",
    "\n",
    "opt_solution = x.value\n"
   ]
  },
  {
   "cell_type": "code",
   "execution_count": null,
   "id": "122162c9-bd4c-44ae-8009-885e83609a18",
   "metadata": {
    "deletable": false,
    "editable": false,
    "nbgrader": {
     "cell_type": "code",
     "checksum": "46897faf703e91fdbc3dd07d9c079b2b",
     "grade": true,
     "grade_id": "cell-ab535f4a32c393e8",
     "locked": true,
     "points": 3,
     "schema_version": 3,
     "solution": false,
     "task": false
    },
    "tags": []
   },
   "outputs": [],
   "source": []
  },
  {
   "cell_type": "markdown",
   "id": "fcd732a3-2fa1-495f-a28e-7a1a601fa700",
   "metadata": {},
   "source": [
    "# Newton Method - Logistic regression (IRLS)"
   ]
  },
  {
   "cell_type": "code",
   "execution_count": 68,
   "id": "ef8084dc-e243-4326-8de3-5c93e2fea680",
   "metadata": {
    "deletable": false,
    "editable": false,
    "nbgrader": {
     "cell_type": "code",
     "checksum": "6831709240cc46ec2131cd65dc605bf8",
     "grade": false,
     "grade_id": "cell-9040a33f93df4268",
     "locked": true,
     "schema_version": 3,
     "solution": false,
     "task": false
    },
    "tags": []
   },
   "outputs": [],
   "source": [
    "def sigmoid(z):\n",
    "    return 1 / (1 + np.exp(-z))\n",
    "\n",
    "data = load_breast_cancer()\n",
    "X_train2, y_train2 = data.data, data.target\n",
    "w2 = np.random.randn(X_train2.shape[1]) * 0.0001\n",
    "b2 = np.random.randn(1) * 0.0001"
   ]
  },
  {
   "cell_type": "code",
   "execution_count": null,
   "id": "ffd2d03c-26bb-4685-ae5e-ecb4e9a81527",
   "metadata": {
    "deletable": false,
    "nbgrader": {
     "cell_type": "code",
     "checksum": "f44545b853825745b64f23dc68f2715d",
     "grade": false,
     "grade_id": "cell-4c4c9681958fdf9e",
     "locked": false,
     "schema_version": 3,
     "solution": true,
     "task": false
    }
   },
   "outputs": [],
   "source": [
    "class LogisticRegressor():\n",
    "    def __init__(self):\n",
    "        self.w = None\n",
    "\n",
    "    def train(self, X, y, num_iters=100):\n",
    "        N, d = X.shape\n",
    "        # YOUR CODE HERE\n",
    "        u = sigmoid(X@self.w)\n",
    "        \n",
    "    \n",
    "    def predict(self, X):\n",
    "        # YOUR CODE HERE\n",
    "        raise NotImplementedError()"
   ]
  },
  {
   "cell_type": "code",
   "execution_count": null,
   "id": "e6f0703b-df1b-4cbb-b55a-1560ccaf0172",
   "metadata": {
    "deletable": false,
    "editable": false,
    "nbgrader": {
     "cell_type": "code",
     "checksum": "c52d17d6b8dadbc394e7a12bf848c3af",
     "grade": true,
     "grade_id": "cell-839f3e24d45dd355",
     "locked": true,
     "points": 4,
     "schema_version": 3,
     "solution": false,
     "task": false
    },
    "tags": []
   },
   "outputs": [],
   "source": [
    "from sklearn.linear_model import LogisticRegression\n",
    "from sklearn.preprocessing import StandardScaler\n",
    "\n",
    "scaler = StandardScaler()\n",
    "X_train2 = scaler.fit_transform(X_train2)\n",
    "\n",
    "sk_model = LogisticRegression(fit_intercept=False)\n",
    "sk_model.fit(X_train2, y_train2)\n",
    "sk_pred = sk_model.predict(X_train2)\n",
    "sk_acc = accuracy_score(sk_pred, y_train2)\n",
    "\n",
    "model = LogisticRegressor()\n",
    "model.train(X_train2, y_train2, num_iters=10)\n",
    "pred = model.predict(X_train2)\n",
    "model_acc = accuracy_score(pred, y_train2)\n",
    "\n",
    "print(\"Accuracy scikit-learn:\", sk_acc)\n",
    "print(\"Accuracy IRLS model :\", model_acc)\n",
    "assert sk_acc - model_acc < 0.01"
   ]
  }
 ],
 "metadata": {
  "kernelspec": {
   "display_name": "Python 3 (ipykernel)",
   "language": "python",
   "name": "python3"
  },
  "language_info": {
   "codemirror_mode": {
    "name": "ipython",
    "version": 3
   },
   "file_extension": ".py",
   "mimetype": "text/x-python",
   "name": "python",
   "nbconvert_exporter": "python",
   "pygments_lexer": "ipython3",
   "version": "3.9.12"
  }
 },
 "nbformat": 4,
 "nbformat_minor": 5
}
