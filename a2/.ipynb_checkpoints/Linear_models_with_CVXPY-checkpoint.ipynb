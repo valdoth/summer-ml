{
 "cells": [
  {
   "cell_type": "markdown",
   "id": "d48d22c5",
   "metadata": {},
   "source": [
    "Alohan'ny mamerina dia avereno atao Run ny notebook iray manontolo. Ny fanaovana azy dia redémarrena mihitsy ny kernel aloha (jereo menubar, safidio **Kernel$\\rightarrow$Restart Kernel and Run All Cells**).\n",
    "\n",
    "Izay misy hoe `YOUR CODE HERE` na \"YOUR ANSWER HERE\" ihany no fenoina. Afaka manampy cells vaovao raha ilaina. Aza adino ny mameno references eo ambany raha ilaina."
   ]
  },
  {
   "cell_type": "markdown",
   "id": "6c83344b",
   "metadata": {},
   "source": [
    "## References\n",
    "Eto ilay references rehetra no apetraka"
   ]
  },
  {
   "cell_type": "markdown",
   "id": "eb69383a",
   "metadata": {},
   "source": [
    "# https://www.cvxpy.org/examples/basic/least_squares.html\n",
    "# https://www.cvxpy.org/examples/machine_learning/ridge_regression.html"
   ]
  },
  {
   "cell_type": "markdown",
   "id": "b3ea27df",
   "metadata": {},
   "source": [
    "# Linear regression"
   ]
  },
  {
   "cell_type": "code",
   "execution_count": 1,
   "id": "b73e7ab1",
   "metadata": {
    "deletable": false,
    "editable": false,
    "nbgrader": {
     "cell_type": "code",
     "checksum": "685906ebadfc6fb0ea934dc6a6b06c6d",
     "grade": false,
     "grade_id": "cell-67a03213d3e48fca",
     "locked": true,
     "schema_version": 3,
     "solution": false,
     "task": false
    }
   },
   "outputs": [],
   "source": [
    "import numpy as np\n",
    "import scipy\n",
    "from sklearn.metrics import mean_squared_error\n",
    "from sklearn import datasets\n",
    "from sklearn.linear_model import LinearRegression as LR\n",
    "import cvxpy as cp\n",
    "from sklearn.linear_model import Ridge, Lasso\n",
    "import warnings\n",
    "warnings.filterwarnings(\"ignore\")\n",
    "\n",
    "def rel_error(x, y):\n",
    "    \"\"\" returns relative error \"\"\"\n",
    "    return np.max(np.abs(x - y) / (np.maximum(1e-8, np.abs(x) + np.abs(y))))\n",
    "\n",
    "def generate_data(N=100, d=20, sigma=5):\n",
    "    \"\"\" Data for Ridge \"\"\"\n",
    "    np.random.seed(1)\n",
    "    w_star = np.random.randn(d)\n",
    "    X = np.random.randn(N, d)\n",
    "    y = X.dot(w_star) + np.random.normal(0, sigma, size=N)\n",
    "    return X, y\n",
    "\n",
    "def generate_data_lasso(N=100, d=20, sigma=5, density=0.2):\n",
    "    \"\"\" Data for Lasso \"\"\"\n",
    "    np.random.seed(1)\n",
    "    w_star = np.random.randn(d)\n",
    "    idxs = np.random.choice(range(d), int((1-density)*d), replace=False)\n",
    "    for idx in idxs:\n",
    "        w_star[idx] = 0\n",
    "    X = np.random.randn(N,d)\n",
    "    y = X.dot(w_star) + np.random.normal(0, sigma, size=N)\n",
    "    return X, y\n",
    "\n",
    "def sigmoid(z):\n",
    "    return 1/(1 + np.exp(-z))\n",
    "\n",
    "def generate_data_log_reg(N=50, d=50):\n",
    "    np.random.seed(1)\n",
    "    w_star = np.array([1, 0.5, -0.5] + [0]*(d - 3))\n",
    "    X = (np.random.random((N, d)) - 0.5)*10\n",
    "    y = np.round(sigmoid(X @ w_star + np.random.randn(N)*0.5))\n",
    "    return X, y\n",
    "\n",
    "data = datasets.load_diabetes()\n",
    "X_train, y_train = data.data, data.target\n",
    "X_train2, y_train2 = generate_data()\n",
    "X_train3, y_train3 = generate_data_lasso()\n",
    "X_train4, y_train4 = generate_data_log_reg()"
   ]
  },
  {
   "cell_type": "code",
   "execution_count": 2,
   "id": "769e26a5",
   "metadata": {
    "deletable": false,
    "nbgrader": {
     "cell_type": "code",
     "checksum": "9f156a2c87e90511bf9b252872aa35b5",
     "grade": false,
     "grade_id": "cell-301cad8bf10a3781",
     "locked": false,
     "schema_version": 3,
     "solution": true,
     "task": false
    }
   },
   "outputs": [],
   "source": [
    "class LinearRegression():\n",
    "    def __init__(self, fit_intercept=True):\n",
    "        self.w = 0\n",
    "        self.fit_intercept = fit_intercept # bias\n",
    "    \n",
    "    def fit(self, X, y):\n",
    "        # YOUR CODE HERE\n",
    "        if self.fit_intercept:\n",
    "            X = np.concatenate((np.ones((X.shape[0],1)), X),axis=1)\n",
    "        x = cp.Variable(X.shape[1])\n",
    "        problem = cp.sum_squares(X @ x - y)\n",
    "        prob = cp.Problem(cp.Minimize(problem))\n",
    "        prob.solve()\n",
    "        self.w = x.value\n",
    "        \n",
    "    def predict(self, X):\n",
    "        # YOUR CODE HERE\n",
    "        if self.fit_intercept == True:\n",
    "            X = np.concatenate((np.ones((X.shape[0],1)), X),axis=1)\n",
    "        return X.dot(self.w)"
   ]
  },
  {
   "cell_type": "code",
   "execution_count": 3,
   "id": "b0fa2686",
   "metadata": {
    "deletable": false,
    "editable": false,
    "nbgrader": {
     "cell_type": "code",
     "checksum": "cef87129190060f6bc5f93f49b670b56",
     "grade": true,
     "grade_id": "cell-1114ed7ed3189a8a",
     "locked": true,
     "points": 1,
     "schema_version": 3,
     "solution": false,
     "task": false
    }
   },
   "outputs": [
    {
     "name": "stdout",
     "output_type": "stream",
     "text": [
      "prediction error:  7.905987949911426e-14\n"
     ]
    }
   ],
   "source": [
    "# Without bias\n",
    "sk_model = LR(fit_intercept=False)\n",
    "sk_model.fit(X_train, y_train)\n",
    "sk_pred = sk_model.predict(X_train)\n",
    "\n",
    "model = LinearRegression(fit_intercept=False)\n",
    "model.fit(X_train, y_train)\n",
    "pred = model.predict(X_train)\n",
    "\n",
    "error = rel_error(pred, sk_pred)\n",
    "print(\"prediction error: \", error)\n",
    "assert error <= 1e-11"
   ]
  },
  {
   "cell_type": "code",
   "execution_count": 4,
   "id": "af10c9b3",
   "metadata": {
    "deletable": false,
    "editable": false,
    "nbgrader": {
     "cell_type": "code",
     "checksum": "02b0ab27086654aa1d3ad24396d0f571",
     "grade": true,
     "grade_id": "cell-b5419a5f7386ea58",
     "locked": true,
     "points": 1,
     "schema_version": 3,
     "solution": false,
     "task": false
    }
   },
   "outputs": [
    {
     "name": "stdout",
     "output_type": "stream",
     "text": [
      "prediction error:  1.1190861660841687e-15\n"
     ]
    }
   ],
   "source": [
    "# With bias\n",
    "sk_model = LR(fit_intercept=True)\n",
    "sk_model.fit(X_train, y_train)\n",
    "sk_pred = sk_model.predict(X_train)\n",
    "\n",
    "model = LinearRegression(fit_intercept=True)\n",
    "model.fit(X_train, y_train)\n",
    "pred = model.predict(X_train)\n",
    "\n",
    "error = rel_error(pred, sk_pred)\n",
    "print(\"prediction error: \", error)\n",
    "assert error <= 1e-11"
   ]
  },
  {
   "cell_type": "markdown",
   "id": "46705a9d",
   "metadata": {},
   "source": [
    "# Ridge regression"
   ]
  },
  {
   "cell_type": "code",
   "execution_count": 5,
   "id": "87f22e57",
   "metadata": {
    "deletable": false,
    "nbgrader": {
     "cell_type": "code",
     "checksum": "319645fba85042054955254713e97f29",
     "grade": false,
     "grade_id": "cell-8bbf3f9bbd1d0a9e",
     "locked": false,
     "schema_version": 3,
     "solution": true,
     "task": false
    }
   },
   "outputs": [],
   "source": [
    "class RidgeRegression():\n",
    "    def __init__(self, fit_intercept=True, alpha=1.0):\n",
    "        self.w = 0\n",
    "        self.fit_intercept = fit_intercept # bias\n",
    "        self.alpha = alpha\n",
    "    \n",
    "    def fit(self, X, y):\n",
    "        # YOUR CODE HERE\n",
    "        if self.fit_intercept:\n",
    "            X = np.concatenate((np.ones((X.shape[0],1)), X),axis=1)\n",
    "        x = cp.Variable(X.shape[1])\n",
    "        problem = cp.sum_squares(X @ x - y) + (self.alpha * (cp.pnorm(x, p=2)**2))\n",
    "\n",
    "        prob = cp.Problem(cp.Minimize(problem))\n",
    "        prob.solve()\n",
    "        self.w = x.value\n",
    "               \n",
    "    def predict(self, X):\n",
    "        # YOUR CODE HERE\n",
    "        if self.fit_intercept == True:\n",
    "            X = np.concatenate((np.ones((X.shape[0],1)), X),axis=1)\n",
    "        return X.dot(self.w)"
   ]
  },
  {
   "cell_type": "code",
   "execution_count": 6,
   "id": "b4db594c",
   "metadata": {
    "deletable": false,
    "editable": false,
    "nbgrader": {
     "cell_type": "code",
     "checksum": "824b8918230441f11dc5e5c1d6ead33b",
     "grade": true,
     "grade_id": "cell-847dcef587d9fb84",
     "locked": true,
     "points": 1,
     "schema_version": 3,
     "solution": false,
     "task": false
    }
   },
   "outputs": [
    {
     "name": "stdout",
     "output_type": "stream",
     "text": [
      "prediction error:  3.0908374407670053e-06\n"
     ]
    },
    {
     "ename": "AssertionError",
     "evalue": "",
     "output_type": "error",
     "traceback": [
      "\u001b[0;31m---------------------------------------------------------------------------\u001b[0m",
      "\u001b[0;31mAssertionError\u001b[0m                            Traceback (most recent call last)",
      "\u001b[0;32m/tmp/ipykernel_3688/2376453239.py\u001b[0m in \u001b[0;36m<module>\u001b[0;34m\u001b[0m\n\u001b[1;32m      6\u001b[0m \u001b[0merror\u001b[0m \u001b[0;34m=\u001b[0m \u001b[0mrel_error\u001b[0m\u001b[0;34m(\u001b[0m\u001b[0mmodel\u001b[0m\u001b[0;34m.\u001b[0m\u001b[0mw\u001b[0m\u001b[0;34m,\u001b[0m \u001b[0mw_solution\u001b[0m\u001b[0;34m)\u001b[0m\u001b[0;34m\u001b[0m\u001b[0;34m\u001b[0m\u001b[0m\n\u001b[1;32m      7\u001b[0m \u001b[0mprint\u001b[0m\u001b[0;34m(\u001b[0m\u001b[0;34m\"prediction error: \"\u001b[0m\u001b[0;34m,\u001b[0m \u001b[0merror\u001b[0m\u001b[0;34m)\u001b[0m\u001b[0;34m\u001b[0m\u001b[0;34m\u001b[0m\u001b[0m\n\u001b[0;32m----> 8\u001b[0;31m \u001b[0;32massert\u001b[0m \u001b[0merror\u001b[0m \u001b[0;34m<=\u001b[0m \u001b[0;36m1e-8\u001b[0m\u001b[0;34m\u001b[0m\u001b[0;34m\u001b[0m\u001b[0m\n\u001b[0m",
      "\u001b[0;31mAssertionError\u001b[0m: "
     ]
    }
   ],
   "source": [
    "# without bias\n",
    "model = RidgeRegression(fit_intercept=False, alpha=0.1)\n",
    "model.fit(X_train2, y_train2)\n",
    "\n",
    "w_solution = [2.2741331962708733,-1.4638470967067754,-1.0248494680125682,-2.0920403465511344,0.19793283915844787,-1.5186692704860287,1.4772054728555917,-0.5873242037184364,0.9478891631775056,0.20512816292505345,1.251288772139991,-2.681990788073989,0.04476204682607866,-0.8659943546608414,0.6794151132231774,-0.45806886087608134,-0.11772977214105436,-1.5167038016358336,-0.7285498050097046,1.1970655855063765]\n",
    "error = rel_error(model.w, w_solution)\n",
    "print(\"prediction error: \", error)\n",
    "assert error <= 1e-8"
   ]
  },
  {
   "cell_type": "code",
   "execution_count": 7,
   "id": "a8a52d45",
   "metadata": {
    "deletable": false,
    "editable": false,
    "nbgrader": {
     "cell_type": "code",
     "checksum": "d60af2b5ff999b9a80f39a031ca7e9e0",
     "grade": true,
     "grade_id": "cell-9fda3b9c88aba579",
     "locked": true,
     "points": 1,
     "schema_version": 3,
     "solution": false,
     "task": false
    }
   },
   "outputs": [
    {
     "name": "stdout",
     "output_type": "stream",
     "text": [
      "prediction error:  0.0006379157053825171\n"
     ]
    },
    {
     "ename": "AssertionError",
     "evalue": "",
     "output_type": "error",
     "traceback": [
      "\u001b[0;31m---------------------------------------------------------------------------\u001b[0m",
      "\u001b[0;31mAssertionError\u001b[0m                            Traceback (most recent call last)",
      "\u001b[0;32m/tmp/ipykernel_3688/3417494906.py\u001b[0m in \u001b[0;36m<module>\u001b[0;34m\u001b[0m\n\u001b[1;32m      6\u001b[0m \u001b[0merror\u001b[0m \u001b[0;34m=\u001b[0m \u001b[0mrel_error\u001b[0m\u001b[0;34m(\u001b[0m\u001b[0mmodel\u001b[0m\u001b[0;34m.\u001b[0m\u001b[0mw\u001b[0m\u001b[0;34m,\u001b[0m \u001b[0mw_solution\u001b[0m\u001b[0;34m)\u001b[0m\u001b[0;34m\u001b[0m\u001b[0;34m\u001b[0m\u001b[0m\n\u001b[1;32m      7\u001b[0m \u001b[0mprint\u001b[0m\u001b[0;34m(\u001b[0m\u001b[0;34m\"prediction error: \"\u001b[0m\u001b[0;34m,\u001b[0m \u001b[0merror\u001b[0m\u001b[0;34m)\u001b[0m\u001b[0;34m\u001b[0m\u001b[0;34m\u001b[0m\u001b[0m\n\u001b[0;32m----> 8\u001b[0;31m \u001b[0;32massert\u001b[0m \u001b[0merror\u001b[0m \u001b[0;34m<=\u001b[0m \u001b[0;36m1e-8\u001b[0m\u001b[0;34m\u001b[0m\u001b[0;34m\u001b[0m\u001b[0m\n\u001b[0m",
      "\u001b[0;31mAssertionError\u001b[0m: "
     ]
    }
   ],
   "source": [
    "# with bias\n",
    "model = RidgeRegression(fit_intercept=True, alpha=0.1)\n",
    "model.fit(X_train2, y_train2)\n",
    "\n",
    "w_solution = [-0.12421153467148652, 2.2885621086080183, -1.460016084362311, -1.0386230518778734, -2.0755554006911163, 0.16722384639912463, -1.5196366460908797, 1.490644600189988, -0.5506589908428944, 0.953560073286487, 0.20519345577354192, 1.2565834667864626, -2.6559028064874886, 0.05943949693736531, -0.8413627640000328, 0.689138089040695, -0.4717409588520616, -0.11380803855096185, -1.5157445906226719, -0.7155151711254747, 1.2094429722709097]\n",
    "error = rel_error(model.w, w_solution)\n",
    "print(\"prediction error: \", error)\n",
    "assert error <= 1e-8"
   ]
  },
  {
   "cell_type": "markdown",
   "id": "72bd5799",
   "metadata": {},
   "source": [
    "# Lasso"
   ]
  },
  {
   "cell_type": "code",
   "execution_count": 8,
   "id": "8251d5f9",
   "metadata": {
    "deletable": false,
    "nbgrader": {
     "cell_type": "code",
     "checksum": "1998f7b771d22f28216817d06bd97fc8",
     "grade": false,
     "grade_id": "cell-100266b2372c931e",
     "locked": false,
     "schema_version": 3,
     "solution": true,
     "task": false
    }
   },
   "outputs": [],
   "source": [
    "class LassoRegression():\n",
    "    def __init__(self, fit_intercept=True, alpha=1.0):\n",
    "        self.w = 0\n",
    "        self.fit_intercept = fit_intercept # bias\n",
    "        self.alpha = alpha\n",
    "    \n",
    "    def fit(self, X, y):\n",
    "        # YOUR CODE HERE\n",
    "        if self.fit_intercept:\n",
    "            X = np.concatenate((np.ones((X.shape[0],1)), X),axis=1)\n",
    "        x = cp.Variable(X.shape[1])\n",
    "        problem = cp.sum_squares(X @ x - y) + (self.alpha * cp.norm1(x))\n",
    "        prob = cp.Problem(cp.Minimize(problem))\n",
    "        prob.solve()\n",
    "        self.w = x.value\n",
    "        \n",
    "    def predict(self, X):\n",
    "        # YOUR CODE HERE\n",
    "        if self.fit_intercept == True:\n",
    "            X = np.concatenate((np.ones((X.shape[0],1)), X),axis=1)\n",
    "        return X.dot(self.w)"
   ]
  },
  {
   "cell_type": "code",
   "execution_count": 9,
   "id": "9e4b9fdf",
   "metadata": {
    "deletable": false,
    "editable": false,
    "nbgrader": {
     "cell_type": "code",
     "checksum": "905627ab54b5bae750a42b7358c4c879",
     "grade": true,
     "grade_id": "cell-cc7b2580fc56a71a",
     "locked": true,
     "points": 1,
     "schema_version": 3,
     "solution": false,
     "task": false
    }
   },
   "outputs": [
    {
     "name": "stdout",
     "output_type": "stream",
     "text": [
      "prediction error:  0.00016772874776678658\n"
     ]
    }
   ],
   "source": [
    "# without bias\n",
    "model = LassoRegression(fit_intercept=False, alpha=0.1)\n",
    "model.fit(X_train3, y_train3)\n",
    "\n",
    "w_solution = [-0.8521262649671281, 0.0254836890059677, 0.7137682249492029, -0.8784736131759308, 0.26239208158878835, 0.6462086038227195, 0.6430994649127592, -0.6427109854827273, 0.8457229064959301, -0.3402411535357167, 0.33481565380057277, -2.2109314288098636, 0.22685158332884042, -0.9969899386988903, -0.486582184431374, -0.0654138939227482, 0.5269406964201837, -1.2991221762643268, -0.1472881184306273, -0.749580456217885]\n",
    "error = rel_error(model.w, w_solution)\n",
    "print(\"prediction error: \", error)\n",
    "assert error <= 1e-3"
   ]
  },
  {
   "cell_type": "code",
   "execution_count": 10,
   "id": "a07043fd",
   "metadata": {
    "deletable": false,
    "editable": false,
    "nbgrader": {
     "cell_type": "code",
     "checksum": "e4a97d07687fde62a12a523dbc60a1da",
     "grade": true,
     "grade_id": "cell-96459e0bbe1885ba",
     "locked": true,
     "points": 1,
     "schema_version": 3,
     "solution": false,
     "task": false
    }
   },
   "outputs": [
    {
     "name": "stdout",
     "output_type": "stream",
     "text": [
      "prediction error:  0.012490139506555793\n"
     ]
    },
    {
     "ename": "AssertionError",
     "evalue": "",
     "output_type": "error",
     "traceback": [
      "\u001b[0;31m---------------------------------------------------------------------------\u001b[0m",
      "\u001b[0;31mAssertionError\u001b[0m                            Traceback (most recent call last)",
      "\u001b[0;32m/tmp/ipykernel_3688/4058040816.py\u001b[0m in \u001b[0;36m<module>\u001b[0;34m\u001b[0m\n\u001b[1;32m      6\u001b[0m \u001b[0merror\u001b[0m \u001b[0;34m=\u001b[0m \u001b[0mrel_error\u001b[0m\u001b[0;34m(\u001b[0m\u001b[0mmodel\u001b[0m\u001b[0;34m.\u001b[0m\u001b[0mw\u001b[0m\u001b[0;34m,\u001b[0m \u001b[0mw_solution\u001b[0m\u001b[0;34m)\u001b[0m\u001b[0;34m\u001b[0m\u001b[0;34m\u001b[0m\u001b[0m\n\u001b[1;32m      7\u001b[0m \u001b[0mprint\u001b[0m\u001b[0;34m(\u001b[0m\u001b[0;34m\"prediction error: \"\u001b[0m\u001b[0;34m,\u001b[0m \u001b[0merror\u001b[0m\u001b[0;34m)\u001b[0m\u001b[0;34m\u001b[0m\u001b[0;34m\u001b[0m\u001b[0m\n\u001b[0;32m----> 8\u001b[0;31m \u001b[0;32massert\u001b[0m \u001b[0merror\u001b[0m \u001b[0;34m<=\u001b[0m \u001b[0;36m1e-3\u001b[0m\u001b[0;34m\u001b[0m\u001b[0;34m\u001b[0m\u001b[0m\n\u001b[0m",
      "\u001b[0;31mAssertionError\u001b[0m: "
     ]
    }
   ],
   "source": [
    "# with bias\n",
    "model = LassoRegression(fit_intercept=True, alpha=0.1)\n",
    "model.fit(X_train3, y_train3)\n",
    "\n",
    "w_solution = [0.02773625477624174, -0.8487201678165991, 0.025083418700813768, 0.7190663030638081, -0.8749520697657432, 0.26342660512442967, 0.6431043993589891, 0.6494385810352119, -0.6408605760028508, 0.8380835575881868, -0.34441398162201164, 0.3295390950817965, -2.2106797474729007, 0.22549557495145922, -0.9948431209736727, -0.48738779274910293, -0.06222135539355891, 0.52148327011433, -1.3019085858141572, -0.15286852250292499, -0.7487483354438857]\n",
    "error = rel_error(model.w, w_solution)\n",
    "print(\"prediction error: \", error)\n",
    "assert error <= 1e-3"
   ]
  }
 ],
 "metadata": {
  "kernelspec": {
   "display_name": "Python 3 (ipykernel)",
   "language": "python",
   "name": "python3"
  },
  "language_info": {
   "codemirror_mode": {
    "name": "ipython",
    "version": 3
   },
   "file_extension": ".py",
   "mimetype": "text/x-python",
   "name": "python",
   "nbconvert_exporter": "python",
   "pygments_lexer": "ipython3",
   "version": "3.9.12"
  }
 },
 "nbformat": 4,
 "nbformat_minor": 5
}
