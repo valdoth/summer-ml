{
 "cells": [
  {
   "cell_type": "markdown",
   "id": "39c47777",
   "metadata": {},
   "source": [
    "Alohan'ny mamerina dia avereno atao Run ny notebook iray manontolo. Ny fanaovana azy dia redémarrena mihitsy ny kernel aloha (jereo menubar, safidio **Kernel$\\rightarrow$Restart Kernel and Run All Cells**).\n",
    "\n",
    "Izay misy hoe `YOUR CODE HERE` na \"YOUR ANSWER HERE\" ihany no fenoina. Afaka manampy cells vaovao raha ilaina. Aza adino ny mameno references eo ambany raha ilaina."
   ]
  },
  {
   "cell_type": "markdown",
   "id": "c4cb62a4",
   "metadata": {},
   "source": [
    "## References\n",
    "Eto ilay references rehetra no apetraka"
   ]
  },
  {
   "cell_type": "markdown",
   "id": "08c356a8",
   "metadata": {},
   "source": [
    "---"
   ]
  },
  {
   "cell_type": "code",
   "execution_count": 1,
   "id": "ab42c33c",
   "metadata": {
    "deletable": false,
    "editable": false,
    "nbgrader": {
     "cell_type": "code",
     "checksum": "d3d3c2e2a84ff92fa02220ae689dc414",
     "grade": false,
     "grade_id": "cell-38b4529793385ad1",
     "locked": true,
     "schema_version": 3,
     "solution": false,
     "task": false
    }
   },
   "outputs": [],
   "source": [
    "from random import randrange\n",
    "import numpy as np\n",
    "from sklearn.metrics import mean_squared_error, log_loss\n",
    "from sklearn.datasets import load_breast_cancer, load_diabetes\n",
    "\n",
    "\n",
    "def grad_check_sparse(f, x, analytic_grad, num_checks=10, h=1e-5, error=1e-9):\n",
    "    \"\"\"\n",
    "    sample a few random elements and only return numerical\n",
    "    in this dimensions\n",
    "    \"\"\"\n",
    "\n",
    "    for i in range(num_checks):\n",
    "        ix = tuple([randrange(m) for m in x.shape])\n",
    "\n",
    "        oldval = x[ix]\n",
    "        x[ix] = oldval + h  # increment by h\n",
    "        fxph = f(x)  # evaluate f(x + h)\n",
    "        x[ix] = oldval - h  # increment by h\n",
    "        fxmh = f(x)  # evaluate f(x - h)\n",
    "        x[ix] = oldval  # reset\n",
    "\n",
    "        grad_numerical = (fxph - fxmh) / (2 * h)\n",
    "        grad_analytic = analytic_grad[ix]\n",
    "        rel_error = abs(grad_numerical - grad_analytic) / (\n",
    "            abs(grad_numerical) + abs(grad_analytic)\n",
    "        )\n",
    "        print(\n",
    "            \"numerical: %f analytic: %f, relative error: %e\"\n",
    "            % (grad_numerical, grad_analytic, rel_error)\n",
    "        )\n",
    "        assert rel_error < error\n",
    "\n",
    "def rel_error(x, y):\n",
    "    \"\"\" returns relative error \"\"\"\n",
    "    return np.max(np.abs(x - y) / (np.maximum(1e-8, np.abs(x) + np.abs(y))))"
   ]
  },
  {
   "cell_type": "markdown",
   "id": "cfec4298",
   "metadata": {},
   "source": [
    "# Linear regression"
   ]
  },
  {
   "cell_type": "code",
   "execution_count": 2,
   "id": "731a18bc",
   "metadata": {
    "deletable": false,
    "editable": false,
    "nbgrader": {
     "cell_type": "code",
     "checksum": "1159b5dc8c59570993ac39ae349c5037",
     "grade": false,
     "grade_id": "cell-3fb8ebd5eb97e246",
     "locked": true,
     "schema_version": 3,
     "solution": false,
     "task": false
    }
   },
   "outputs": [],
   "source": [
    "data = load_diabetes()\n",
    "X_train1, y_train1 = data.data, data.target\n",
    "w1 = np.random.randn(X_train1.shape[1]) * 0.0001\n",
    "b1 = np.random.randn(1) * 0.0001"
   ]
  },
  {
   "cell_type": "code",
   "execution_count": 3,
   "id": "f07dea71",
   "metadata": {
    "deletable": false,
    "nbgrader": {
     "cell_type": "code",
     "checksum": "baf9b75ec047c1cdb887ecb2bc2043a1",
     "grade": false,
     "grade_id": "cell-5ffdf99ad7cdfd69",
     "locked": false,
     "schema_version": 3,
     "solution": true,
     "task": false
    }
   },
   "outputs": [],
   "source": [
    "def mse_loss_naive(w, b, X, y, alpha=0):\n",
    "    \"\"\"\n",
    "    MSE loss function WITH FOR LOOPs\n",
    "    \n",
    "    Returns a tuple of:\n",
    "    - loss \n",
    "    - gradient with respect to weights w\n",
    "    - gradient with respect to bias b\n",
    "    \"\"\"\n",
    "    loss = 0.0\n",
    "    dw = np.zeros_like(w)\n",
    "    db = 0.0\n",
    "    \n",
    "    # YOUR CODE HERE\n",
    "    for i in range(len(X)):\n",
    "        loss += (y[i] - (w.transpose()).dot(X[i]) -  b) ** 2\n",
    "        dw -= (y[i] - (w.transpose()).dot(X[i]) -  b) * X[i]\n",
    "        db -= y[i] - (w.transpose()).dot(X[i]) -  b\n",
    "    loss = loss / X.shape[0]\n",
    "    dw = 2*(dw / X.shape[0])\n",
    "    db = 2*(db/ X .shape[0])\n",
    "    \n",
    "    return loss, dw, np.array(db).reshape(1,)"
   ]
  },
  {
   "cell_type": "markdown",
   "id": "bddacc5d",
   "metadata": {},
   "source": [
    "## Naive Linear regression loss"
   ]
  },
  {
   "cell_type": "code",
   "execution_count": 4,
   "id": "86cdcedc",
   "metadata": {
    "deletable": false,
    "editable": false,
    "nbgrader": {
     "cell_type": "code",
     "checksum": "c67f4964c919b07a15b9ca06dc2e8b1f",
     "grade": true,
     "grade_id": "cell-079e42b153b67a60",
     "locked": true,
     "points": 1,
     "schema_version": 3,
     "solution": false,
     "task": false
    }
   },
   "outputs": [
    {
     "name": "stdout",
     "output_type": "stream",
     "text": [
      "Loss error :  3.1281544173592984e-16\n",
      "Gradient check w\n",
      "numerical: -3.234110 analytic: -3.234110, relative error: 4.608004e-08\n",
      "numerical: -1.553189 analytic: -1.553189, relative error: 1.796933e-09\n",
      "numerical: -3.153319 analytic: -3.153319, relative error: 8.641310e-09\n",
      "numerical: 2.892059 analytic: 2.892061, relative error: 3.783147e-07\n",
      "numerical: -1.376396 analytic: -1.376395, relative error: 3.055484e-07\n",
      "numerical: -3.153319 analytic: -3.153319, relative error: 8.641310e-09\n",
      "numerical: -1.275045 analytic: -1.275046, relative error: 1.263567e-07\n",
      "numerical: -0.315455 analytic: -0.315455, relative error: 8.276968e-07\n",
      "numerical: -1.376396 analytic: -1.376395, relative error: 3.055484e-07\n",
      "numerical: -1.553189 analytic: -1.553189, relative error: 1.796933e-09\n",
      "numerical: -4.145420 analytic: -4.145419, relative error: 1.051224e-07\n",
      "numerical: -4.296085 analytic: -4.296088, relative error: 3.792221e-07\n",
      "numerical: 2.892059 analytic: 2.892061, relative error: 3.783147e-07\n",
      "numerical: -1.275045 analytic: -1.275046, relative error: 1.263567e-07\n",
      "numerical: -2.801913 analytic: -2.801914, relative error: 1.522192e-07\n",
      "Gradient check bias\n",
      "numerical: -304.266964 analytic: -304.266963, relative error: 2.382181e-09\n",
      "numerical: -304.266964 analytic: -304.266963, relative error: 2.382181e-09\n",
      "numerical: -304.266964 analytic: -304.266963, relative error: 2.382181e-09\n",
      "numerical: -304.266964 analytic: -304.266963, relative error: 2.382181e-09\n",
      "numerical: -304.266964 analytic: -304.266963, relative error: 2.382181e-09\n",
      "numerical: -304.266964 analytic: -304.266963, relative error: 2.382181e-09\n",
      "numerical: -304.266964 analytic: -304.266963, relative error: 2.382181e-09\n",
      "numerical: -304.266964 analytic: -304.266963, relative error: 2.382181e-09\n",
      "numerical: -304.266964 analytic: -304.266963, relative error: 2.382181e-09\n",
      "numerical: -304.266964 analytic: -304.266963, relative error: 2.382181e-09\n",
      "numerical: -304.266964 analytic: -304.266963, relative error: 2.382181e-09\n",
      "numerical: -304.266964 analytic: -304.266963, relative error: 2.382181e-09\n",
      "numerical: -304.266964 analytic: -304.266963, relative error: 2.382181e-09\n",
      "numerical: -304.266964 analytic: -304.266963, relative error: 2.382181e-09\n",
      "numerical: -304.266964 analytic: -304.266963, relative error: 2.382181e-09\n"
     ]
    }
   ],
   "source": [
    "loss, dw1, db1 = mse_loss_naive(w1, b1, X_train1, y_train1, alpha=0)\n",
    "\n",
    "sk_loss = mean_squared_error(X_train1 @ w1 + b1, y_train1)\n",
    "print(\"Loss error : \",rel_error(loss, sk_loss))\n",
    "assert rel_error(loss, sk_loss) < 1e-9\n",
    "\n",
    "print(\"Gradient check w\")\n",
    "# Check with numerical gradient w\n",
    "f = lambda w1: mse_loss_naive(w1, b1, X_train1, y_train1, alpha=0)[0]\n",
    "grad_numerical = grad_check_sparse(f, w1, dw1, 15,  error=1e-5)\n",
    "\n",
    "print(\"Gradient check bias\")\n",
    "# Check with numerical gradient b\n",
    "f2 = lambda b1: mse_loss_naive(w1, b1, X_train1, y_train1, alpha=0)[0]\n",
    "grad_numerical = grad_check_sparse(f2, b1, db1, 15,  error=1e-5)"
   ]
  },
  {
   "cell_type": "markdown",
   "id": "db438d3f",
   "metadata": {},
   "source": [
    "## Naive Ridge regression loss"
   ]
  },
  {
   "cell_type": "code",
   "execution_count": 5,
   "id": "36465817",
   "metadata": {
    "deletable": false,
    "editable": false,
    "nbgrader": {
     "cell_type": "code",
     "checksum": "9ca5790893e5950341f7370bb3be167c",
     "grade": true,
     "grade_id": "cell-14a64cb1cfe70b98",
     "locked": true,
     "points": 1,
     "schema_version": 3,
     "solution": false,
     "task": false
    }
   },
   "outputs": [
    {
     "name": "stdout",
     "output_type": "stream",
     "text": [
      "Gradient check w\n",
      "numerical: -3.234110 analytic: -3.234110, relative error: 4.608004e-08\n",
      "numerical: -1.275045 analytic: -1.275046, relative error: 1.263567e-07\n",
      "numerical: -1.376396 analytic: -1.376395, relative error: 3.055484e-07\n",
      "numerical: -1.275045 analytic: -1.275046, relative error: 1.263567e-07\n",
      "numerical: -4.145420 analytic: -4.145419, relative error: 1.051224e-07\n",
      "numerical: -1.275045 analytic: -1.275046, relative error: 1.263567e-07\n",
      "numerical: -0.315455 analytic: -0.315455, relative error: 8.276968e-07\n",
      "numerical: -2.801913 analytic: -2.801914, relative error: 1.522192e-07\n",
      "numerical: -4.145420 analytic: -4.145419, relative error: 1.051224e-07\n",
      "numerical: -0.315455 analytic: -0.315455, relative error: 8.276968e-07\n",
      "numerical: -1.553189 analytic: -1.553189, relative error: 1.796933e-09\n",
      "numerical: -3.234110 analytic: -3.234110, relative error: 4.608004e-08\n",
      "numerical: -1.376396 analytic: -1.376395, relative error: 3.055484e-07\n",
      "numerical: -2.801913 analytic: -2.801914, relative error: 1.522192e-07\n",
      "numerical: -3.234110 analytic: -3.234110, relative error: 4.608004e-08\n",
      "Gradient check bias\n",
      "numerical: -304.266964 analytic: -304.266963, relative error: 2.382181e-09\n",
      "numerical: -304.266964 analytic: -304.266963, relative error: 2.382181e-09\n",
      "numerical: -304.266964 analytic: -304.266963, relative error: 2.382181e-09\n",
      "numerical: -304.266964 analytic: -304.266963, relative error: 2.382181e-09\n",
      "numerical: -304.266964 analytic: -304.266963, relative error: 2.382181e-09\n",
      "numerical: -304.266964 analytic: -304.266963, relative error: 2.382181e-09\n",
      "numerical: -304.266964 analytic: -304.266963, relative error: 2.382181e-09\n",
      "numerical: -304.266964 analytic: -304.266963, relative error: 2.382181e-09\n",
      "numerical: -304.266964 analytic: -304.266963, relative error: 2.382181e-09\n",
      "numerical: -304.266964 analytic: -304.266963, relative error: 2.382181e-09\n",
      "numerical: -304.266964 analytic: -304.266963, relative error: 2.382181e-09\n",
      "numerical: -304.266964 analytic: -304.266963, relative error: 2.382181e-09\n",
      "numerical: -304.266964 analytic: -304.266963, relative error: 2.382181e-09\n",
      "numerical: -304.266964 analytic: -304.266963, relative error: 2.382181e-09\n",
      "numerical: -304.266964 analytic: -304.266963, relative error: 2.382181e-09\n"
     ]
    }
   ],
   "source": [
    "loss, dw1, db1 = mse_loss_naive(w1, b1, X_train1, y_train1, alpha=1)\n",
    "\n",
    "print(\"Gradient check w\")\n",
    "# Check with numerical gradient w\n",
    "f = lambda w1: mse_loss_naive(w1, b1, X_train1, y_train1, alpha=1)[0]\n",
    "grad_numerical = grad_check_sparse(f, w1, dw1, 15,  error=1e-5)\n",
    "\n",
    "print(\"Gradient check bias\")\n",
    "# Check with numerical gradient b\n",
    "f2 = lambda b1: mse_loss_naive(w1, b1, X_train1, y_train1, alpha=1)[0]\n",
    "grad_numerical = grad_check_sparse(f2, b1, db1, 15,  error=1e-5)"
   ]
  },
  {
   "cell_type": "code",
   "execution_count": 6,
   "id": "5c6b011f",
   "metadata": {
    "deletable": false,
    "nbgrader": {
     "cell_type": "code",
     "checksum": "21b3a09270262dbad9cb1c15c0fc69f8",
     "grade": false,
     "grade_id": "cell-1528a28f467d90c7",
     "locked": false,
     "schema_version": 3,
     "solution": true,
     "task": false
    }
   },
   "outputs": [],
   "source": [
    "def mse_loss_vectorized(w, b, X, y, alpha=0):\n",
    "    \"\"\"\n",
    "    MSE loss function WITHOUT FOR LOOPs\n",
    "    \n",
    "    Returns a tuple of:\n",
    "    - loss \n",
    "    - gradient with respect to weights w\n",
    "    - gradient with respect to bias b\n",
    "    \"\"\"\n",
    "    loss = 0.0\n",
    "    dw = np.zeros_like(w)\n",
    "    db = 0.0\n",
    "    \n",
    "    # YOUR CODE HERE\n",
    "    y_pred = X.dot(w) + b\n",
    "    \n",
    "    # loss\n",
    "    loss = (1/y.shape[0]) * ((y_pred - y).dot(y_pred - y) + alpha * ((w.transpose()).dot(w)))\n",
    "    \n",
    "    # gradient with respect to weights w\n",
    "    dw = (2/X.shape[0]) * ((alpha * w) + (X.transpose()).dot(y_pred - y))\n",
    "    \n",
    "    # gradient with respect to bias\n",
    "    db = (2/X.shape[0]) * np.sum(y_pred - y)\n",
    "    \n",
    "    return loss, dw, np.array(db).reshape(1,)"
   ]
  },
  {
   "cell_type": "markdown",
   "id": "1d9bff00",
   "metadata": {},
   "source": [
    "## Vectorised Linear regression loss"
   ]
  },
  {
   "cell_type": "code",
   "execution_count": 7,
   "id": "05dd3b4d",
   "metadata": {
    "deletable": false,
    "editable": false,
    "nbgrader": {
     "cell_type": "code",
     "checksum": "76d06d37e089b9fdf2c7ca7fa3241a61",
     "grade": true,
     "grade_id": "cell-41637ca21c8f938d",
     "locked": true,
     "points": 1,
     "schema_version": 3,
     "solution": false,
     "task": false
    }
   },
   "outputs": [
    {
     "name": "stdout",
     "output_type": "stream",
     "text": [
      "Loss error :  2.502523533887439e-16\n",
      "Gradient check w\n",
      "numerical: 2.892061 analytic: 2.892061, relative error: 9.389016e-10\n",
      "numerical: -3.234111 analytic: -3.234110, relative error: 9.452968e-08\n",
      "numerical: -2.801914 analytic: -2.801914, relative error: 1.007962e-08\n",
      "numerical: -1.275046 analytic: -1.275046, relative error: 1.630403e-08\n",
      "numerical: -3.234111 analytic: -3.234110, relative error: 9.452968e-08\n",
      "numerical: -1.376395 analytic: -1.376395, relative error: 2.484166e-08\n",
      "numerical: -1.376395 analytic: -1.376395, relative error: 2.484166e-08\n",
      "numerical: -4.145419 analytic: -4.145419, relative error: 4.845586e-08\n",
      "numerical: -1.376395 analytic: -1.376395, relative error: 2.484166e-08\n",
      "numerical: -3.153319 analytic: -3.153319, relative error: 8.641310e-09\n",
      "numerical: -3.153319 analytic: -3.153319, relative error: 8.641310e-09\n",
      "numerical: -3.234111 analytic: -3.234110, relative error: 9.452968e-08\n",
      "numerical: -2.801914 analytic: -2.801914, relative error: 1.007962e-08\n",
      "numerical: -4.296088 analytic: -4.296088, relative error: 4.049716e-08\n",
      "numerical: -1.275046 analytic: -1.275046, relative error: 1.630403e-08\n",
      "Gradient check bias\n",
      "numerical: -304.266963 analytic: -304.266963, relative error: 5.887003e-10\n",
      "numerical: -304.266963 analytic: -304.266963, relative error: 5.887003e-10\n",
      "numerical: -304.266963 analytic: -304.266963, relative error: 5.887003e-10\n",
      "numerical: -304.266963 analytic: -304.266963, relative error: 5.887003e-10\n",
      "numerical: -304.266963 analytic: -304.266963, relative error: 5.887003e-10\n",
      "numerical: -304.266963 analytic: -304.266963, relative error: 5.887003e-10\n",
      "numerical: -304.266963 analytic: -304.266963, relative error: 5.887003e-10\n",
      "numerical: -304.266963 analytic: -304.266963, relative error: 5.887003e-10\n",
      "numerical: -304.266963 analytic: -304.266963, relative error: 5.887003e-10\n",
      "numerical: -304.266963 analytic: -304.266963, relative error: 5.887003e-10\n",
      "numerical: -304.266963 analytic: -304.266963, relative error: 5.887003e-10\n",
      "numerical: -304.266963 analytic: -304.266963, relative error: 5.887003e-10\n",
      "numerical: -304.266963 analytic: -304.266963, relative error: 5.887003e-10\n",
      "numerical: -304.266963 analytic: -304.266963, relative error: 5.887003e-10\n",
      "numerical: -304.266963 analytic: -304.266963, relative error: 5.887003e-10\n"
     ]
    }
   ],
   "source": [
    "loss, dw1, db1 = mse_loss_vectorized(w1, b1, X_train1, y_train1, alpha=0)\n",
    "\n",
    "sk_loss = mean_squared_error(X_train1 @ w1 + b1, y_train1)\n",
    "print(\"Loss error : \",rel_error(loss, sk_loss))\n",
    "assert rel_error(loss, sk_loss) < 1e-9\n",
    "\n",
    "print(\"Gradient check w\")\n",
    "# Check with numerical gradient w\n",
    "f = lambda w1: mse_loss_vectorized(w1, b1, X_train1, y_train1, alpha=0)[0]\n",
    "grad_numerical = grad_check_sparse(f, w1, dw1, 15,  error=1e-5)\n",
    "\n",
    "print(\"Gradient check bias\")\n",
    "# Check with numerical gradient b\n",
    "f2 = lambda b1: mse_loss_vectorized(w1, b1, X_train1, y_train1, alpha=0)[0]\n",
    "grad_numerical = grad_check_sparse(f2, b1, db1, 15,  error=1e-5)"
   ]
  },
  {
   "cell_type": "markdown",
   "id": "27c8575f",
   "metadata": {},
   "source": [
    "## Vectorized ridge regression loss"
   ]
  },
  {
   "cell_type": "code",
   "execution_count": 8,
   "id": "6aa107f7",
   "metadata": {
    "deletable": false,
    "editable": false,
    "nbgrader": {
     "cell_type": "code",
     "checksum": "89b351bee282f05c3f74c9541b3a825e",
     "grade": true,
     "grade_id": "cell-bb0ff99c19a85e0f",
     "locked": true,
     "points": 1,
     "schema_version": 3,
     "solution": false,
     "task": false
    }
   },
   "outputs": [
    {
     "name": "stdout",
     "output_type": "stream",
     "text": [
      "Gradient check w\n",
      "numerical: -1.553190 analytic: -1.553190, relative error: 2.689604e-08\n",
      "numerical: -1.376395 analytic: -1.376396, relative error: 3.644297e-08\n",
      "numerical: -4.145419 analytic: -4.145419, relative error: 8.666912e-08\n",
      "numerical: -2.801913 analytic: -2.801914, relative error: 2.921326e-08\n",
      "numerical: -2.801913 analytic: -2.801914, relative error: 2.921326e-08\n",
      "numerical: -3.153319 analytic: -3.153319, relative error: 3.369887e-08\n",
      "numerical: -4.296088 analytic: -4.296088, relative error: 6.194543e-08\n",
      "numerical: -1.275047 analytic: -1.275047, relative error: 2.265001e-08\n",
      "numerical: -4.296088 analytic: -4.296088, relative error: 6.194543e-08\n",
      "numerical: -4.145419 analytic: -4.145419, relative error: 8.666912e-08\n",
      "numerical: 2.892062 analytic: 2.892062, relative error: 4.981050e-09\n",
      "numerical: -4.145419 analytic: -4.145419, relative error: 8.666912e-08\n",
      "numerical: -2.801913 analytic: -2.801914, relative error: 2.921326e-08\n",
      "numerical: -3.234110 analytic: -3.234110, relative error: 1.038487e-07\n",
      "numerical: -4.145419 analytic: -4.145419, relative error: 8.666912e-08\n",
      "Gradient check bias\n",
      "numerical: -304.266963 analytic: -304.266963, relative error: 5.887003e-10\n",
      "numerical: -304.266963 analytic: -304.266963, relative error: 5.887003e-10\n",
      "numerical: -304.266963 analytic: -304.266963, relative error: 5.887003e-10\n",
      "numerical: -304.266963 analytic: -304.266963, relative error: 5.887003e-10\n",
      "numerical: -304.266963 analytic: -304.266963, relative error: 5.887003e-10\n",
      "numerical: -304.266963 analytic: -304.266963, relative error: 5.887003e-10\n",
      "numerical: -304.266963 analytic: -304.266963, relative error: 5.887003e-10\n",
      "numerical: -304.266963 analytic: -304.266963, relative error: 5.887003e-10\n",
      "numerical: -304.266963 analytic: -304.266963, relative error: 5.887003e-10\n",
      "numerical: -304.266963 analytic: -304.266963, relative error: 5.887003e-10\n",
      "numerical: -304.266963 analytic: -304.266963, relative error: 5.887003e-10\n",
      "numerical: -304.266963 analytic: -304.266963, relative error: 5.887003e-10\n",
      "numerical: -304.266963 analytic: -304.266963, relative error: 5.887003e-10\n",
      "numerical: -304.266963 analytic: -304.266963, relative error: 5.887003e-10\n",
      "numerical: -304.266963 analytic: -304.266963, relative error: 5.887003e-10\n"
     ]
    }
   ],
   "source": [
    "loss, dw1, db1 = mse_loss_vectorized(w1, b1, X_train1, y_train1, alpha=1)\n",
    "\n",
    "print(\"Gradient check w\")\n",
    "# Check with numerical gradient w\n",
    "f = lambda w1: mse_loss_vectorized(w1, b1, X_train1, y_train1, alpha=1)[0]\n",
    "grad_numerical = grad_check_sparse(f, w1, dw1, 15,  error=1e-5)\n",
    "\n",
    "print(\"Gradient check bias\")\n",
    "# Check with numerical gradient b\n",
    "f2 = lambda b1: mse_loss_vectorized(w1, b1, X_train1, y_train1, alpha=1)[0]\n",
    "grad_numerical = grad_check_sparse(f2, b1, db1, 15,  error=1e-5)"
   ]
  },
  {
   "cell_type": "markdown",
   "id": "c3c7ae33",
   "metadata": {},
   "source": [
    "# Logistic regression"
   ]
  },
  {
   "cell_type": "code",
   "execution_count": 9,
   "id": "bb6d1eb4",
   "metadata": {
    "deletable": false,
    "editable": false,
    "nbgrader": {
     "cell_type": "code",
     "checksum": "fd86b658f3ec113c00c2ee2e195f550f",
     "grade": false,
     "grade_id": "cell-434ec399cf8aeea7",
     "locked": true,
     "schema_version": 3,
     "solution": false,
     "task": false
    }
   },
   "outputs": [],
   "source": [
    "def sigmoid(z):\n",
    "    return 1 / (1 + np.exp(-z))\n",
    "\n",
    "data = load_breast_cancer()\n",
    "X_train2, y_train2 = data.data, data.target\n",
    "w2 = np.random.randn(X_train2.shape[1]) * 0.0001\n",
    "b2 = np.random.randn(1) * 0.0001"
   ]
  },
  {
   "cell_type": "markdown",
   "id": "d97e5d16",
   "metadata": {},
   "source": [
    "# Naive"
   ]
  },
  {
   "cell_type": "code",
   "execution_count": 10,
   "id": "4690c331",
   "metadata": {
    "deletable": false,
    "nbgrader": {
     "cell_type": "code",
     "checksum": "a4357b941a04e6dc51a2683b7f4d91ed",
     "grade": false,
     "grade_id": "cell-6ec156568b0c6e29",
     "locked": false,
     "schema_version": 3,
     "solution": true,
     "task": false
    }
   },
   "outputs": [],
   "source": [
    "def log_loss_naive(w, b, X, y, alpha=0):\n",
    "    \"\"\"\n",
    "    log loss function WITH FOR LOOPs\n",
    "    \n",
    "    Returns a tuple of:\n",
    "    - loss \n",
    "    - gradient with respect to weights w\n",
    "    \"\"\"\n",
    "    loss = 0.0\n",
    "    dw = np.zeros_like(w)\n",
    "    db = 0.0\n",
    "    \n",
    "    # YOUR CODE HERE\n",
    "    \n",
    "    def logistic(y, m):\n",
    "        res = y * np.log(m) + (1-y) * np.log(1-m)\n",
    "        return res\n",
    "    \n",
    "    for i in range(X.shape[0]):\n",
    "        sig = sigmoid(w.T.dot(X[i]) + b)\n",
    "        loss -= logistic(y[i], sig)\n",
    "    \n",
    "    loss += alpha * (w.transpose()).dot(w)\n",
    "    loss = (1/X.shape[0]) * loss\n",
    "    \n",
    "    for i in range(w.shape[0]):\n",
    "        x1 = 2 * alpha * w[i]\n",
    "        for j in range(X.shape[0]):\n",
    "            x1 += (sigmoid((w.transpose()).dot(X[j]) + b) - y[j]) * X[j][i]\n",
    "        dw[i] = x1 / y.shape[0]\n",
    "    \n",
    "    x1 = 0\n",
    "    for i in range(X.shape[0]):\n",
    "        x1 += sigmoid(((w.transpose()).dot(X[i])) + b) - y[i]\n",
    "    db = (1/X.shape[0]) * x1\n",
    "    \n",
    "    \n",
    "    return loss, dw, np.array(db).reshape(1,)"
   ]
  },
  {
   "cell_type": "code",
   "execution_count": 11,
   "id": "f54b1bca",
   "metadata": {
    "deletable": false,
    "editable": false,
    "nbgrader": {
     "cell_type": "code",
     "checksum": "70d2045a5dac4c5a041dc8595cd5a39f",
     "grade": true,
     "grade_id": "cell-d3c078eb2449ee61",
     "locked": true,
     "points": 1,
     "schema_version": 3,
     "solution": false,
     "task": false
    }
   },
   "outputs": [
    {
     "name": "stdout",
     "output_type": "stream",
     "text": [
      "Loss error :  7.951603207737165e-17\n",
      "Gradient check w\n",
      "numerical: -0.138444 analytic: -0.138444, relative error: 6.360337e-11\n",
      "numerical: 7.877575 analytic: 7.877576, relative error: 2.331424e-08\n",
      "numerical: -0.006550 analytic: -0.006550, relative error: 2.615908e-09\n",
      "numerical: 0.003799 analytic: 0.003799, relative error: 5.990420e-10\n",
      "numerical: 0.012817 analytic: 0.012817, relative error: 2.341918e-09\n",
      "numerical: -0.019883 analytic: -0.019883, relative error: 2.517171e-10\n",
      "numerical: 0.003799 analytic: 0.003799, relative error: 5.990420e-10\n",
      "numerical: 0.009376 analytic: 0.009376, relative error: 3.169600e-10\n",
      "numerical: -0.000324 analytic: -0.000324, relative error: 1.030730e-08\n",
      "numerical: -0.010112 analytic: -0.010112, relative error: 2.130841e-10\n",
      "numerical: -0.006550 analytic: -0.006550, relative error: 2.615908e-09\n",
      "numerical: 50.452457 analytic: 50.452618, relative error: 1.599717e-06\n",
      "numerical: 0.000194 analytic: 0.000194, relative error: 1.201145e-07\n",
      "numerical: 0.032599 analytic: 0.032599, relative error: 1.191362e-10\n",
      "numerical: 0.003799 analytic: 0.003799, relative error: 5.990420e-10\n",
      "Gradient check bias\n",
      "numerical: -0.111732 analytic: -0.111732, relative error: 2.126960e-12\n",
      "numerical: -0.111732 analytic: -0.111732, relative error: 2.126960e-12\n",
      "numerical: -0.111732 analytic: -0.111732, relative error: 2.126960e-12\n",
      "numerical: -0.111732 analytic: -0.111732, relative error: 2.126960e-12\n",
      "numerical: -0.111732 analytic: -0.111732, relative error: 2.126960e-12\n",
      "numerical: -0.111732 analytic: -0.111732, relative error: 2.126960e-12\n",
      "numerical: -0.111732 analytic: -0.111732, relative error: 2.126960e-12\n",
      "numerical: -0.111732 analytic: -0.111732, relative error: 2.126960e-12\n",
      "numerical: -0.111732 analytic: -0.111732, relative error: 2.126960e-12\n",
      "numerical: -0.111732 analytic: -0.111732, relative error: 2.126960e-12\n",
      "numerical: -0.111732 analytic: -0.111732, relative error: 2.126960e-12\n",
      "numerical: -0.111732 analytic: -0.111732, relative error: 2.126960e-12\n",
      "numerical: -0.111732 analytic: -0.111732, relative error: 2.126960e-12\n",
      "numerical: -0.111732 analytic: -0.111732, relative error: 2.126960e-12\n",
      "numerical: -0.111732 analytic: -0.111732, relative error: 2.126960e-12\n"
     ]
    }
   ],
   "source": [
    "y_pred_0 = sigmoid(X_train2 @ w2 + b2)\n",
    "y_pred = np.vstack([1-y_pred_0, y_pred_0]).T\n",
    "sk_loss = log_loss(y_train2, y_pred)\n",
    "\n",
    "loss, dw2, db2 = log_loss_naive(w2, b2, X_train2, y_train2, alpha=0)\n",
    "print(\"Loss error : \",rel_error(loss, sk_loss))\n",
    "assert rel_error(loss, sk_loss) < 1e-9\n",
    "\n",
    "print(\"Gradient check w\")\n",
    "# Check with numerical gradient w\n",
    "f = lambda w2: log_loss_naive(w2, b2, X_train2, y_train2, alpha=0)[0]\n",
    "grad_numerical = grad_check_sparse(f, w2, dw2, 15, error=1e-4)\n",
    "\n",
    "print(\"Gradient check bias\")\n",
    "# Check with numerical gradient b\n",
    "f2 = lambda b2: log_loss_naive(w2, b2, X_train2, y_train2, alpha=0)[0]\n",
    "grad_numerical = grad_check_sparse(f2, b2, db2, 15,  error=1e-5)"
   ]
  },
  {
   "cell_type": "markdown",
   "id": "5e1e8516",
   "metadata": {},
   "source": [
    "# Naive with regulariztion"
   ]
  },
  {
   "cell_type": "code",
   "execution_count": 12,
   "id": "79f6f9a6",
   "metadata": {
    "deletable": false,
    "editable": false,
    "nbgrader": {
     "cell_type": "code",
     "checksum": "cb3c9584e2ca3502e5068d5c1ee2df96",
     "grade": true,
     "grade_id": "cell-b91805308ad91ec5",
     "locked": true,
     "points": 1,
     "schema_version": 3,
     "solution": false,
     "task": false
    }
   },
   "outputs": [
    {
     "name": "stdout",
     "output_type": "stream",
     "text": [
      "Gradient check w\n",
      "numerical: 50.452457 analytic: 50.452618, relative error: 1.599717e-06\n",
      "numerical: -0.019884 analytic: -0.019884, relative error: 4.009081e-10\n",
      "numerical: -1.348644 analytic: -1.348644, relative error: 6.944073e-08\n",
      "numerical: -0.000081 analytic: -0.000081, relative error: 2.057767e-08\n",
      "numerical: -0.305242 analytic: -0.305242, relative error: 1.022863e-09\n",
      "numerical: -0.010112 analytic: -0.010112, relative error: 5.582703e-10\n",
      "numerical: 50.452457 analytic: 50.452618, relative error: 1.599717e-06\n",
      "numerical: 50.452457 analytic: 50.452618, relative error: 1.599717e-06\n",
      "numerical: -0.008306 analytic: -0.008306, relative error: 8.055911e-10\n",
      "numerical: 0.236599 analytic: 0.236599, relative error: 6.657039e-11\n",
      "numerical: 0.236599 analytic: 0.236599, relative error: 6.657039e-11\n",
      "numerical: -0.000081 analytic: -0.000081, relative error: 2.057767e-08\n",
      "numerical: -0.015824 analytic: -0.015824, relative error: 1.601730e-11\n",
      "numerical: -0.006550 analytic: -0.006550, relative error: 2.674883e-09\n",
      "numerical: -1.496190 analytic: -1.496190, relative error: 9.449250e-10\n",
      "Gradient check bias\n",
      "numerical: -0.111732 analytic: -0.111732, relative error: 2.696809e-11\n",
      "numerical: -0.111732 analytic: -0.111732, relative error: 2.696809e-11\n",
      "numerical: -0.111732 analytic: -0.111732, relative error: 2.696809e-11\n",
      "numerical: -0.111732 analytic: -0.111732, relative error: 2.696809e-11\n",
      "numerical: -0.111732 analytic: -0.111732, relative error: 2.696809e-11\n",
      "numerical: -0.111732 analytic: -0.111732, relative error: 2.696809e-11\n",
      "numerical: -0.111732 analytic: -0.111732, relative error: 2.696809e-11\n",
      "numerical: -0.111732 analytic: -0.111732, relative error: 2.696809e-11\n",
      "numerical: -0.111732 analytic: -0.111732, relative error: 2.696809e-11\n",
      "numerical: -0.111732 analytic: -0.111732, relative error: 2.696809e-11\n",
      "numerical: -0.111732 analytic: -0.111732, relative error: 2.696809e-11\n",
      "numerical: -0.111732 analytic: -0.111732, relative error: 2.696809e-11\n",
      "numerical: -0.111732 analytic: -0.111732, relative error: 2.696809e-11\n",
      "numerical: -0.111732 analytic: -0.111732, relative error: 2.696809e-11\n",
      "numerical: -0.111732 analytic: -0.111732, relative error: 2.696809e-11\n"
     ]
    }
   ],
   "source": [
    "loss, dw2, db2 = log_loss_naive(w2, b2, X_train2, y_train2, alpha=1)\n",
    "\n",
    "print(\"Gradient check w\")\n",
    "# Check with numerical gradient w\n",
    "f = lambda w2: log_loss_naive(w2, b2, X_train2, y_train2, alpha=1)[0]\n",
    "grad_numerical = grad_check_sparse(f, w2, dw2, 15, error=1e-4)\n",
    "\n",
    "print(\"Gradient check bias\")\n",
    "# Check with numerical gradient b\n",
    "f2 = lambda b2: log_loss_naive(w2, b2, X_train2, y_train2, alpha=1)[0]\n",
    "grad_numerical = grad_check_sparse(f2, b2, db2, 15,  error=1e-5)"
   ]
  },
  {
   "cell_type": "markdown",
   "id": "31564092",
   "metadata": {},
   "source": [
    "# Vectorized"
   ]
  },
  {
   "cell_type": "code",
   "execution_count": 13,
   "id": "fc5084e9",
   "metadata": {
    "deletable": false,
    "nbgrader": {
     "cell_type": "code",
     "checksum": "6f452aaa24d69e2257c0851d750fd4aa",
     "grade": false,
     "grade_id": "cell-a96e9a6d51919ffc",
     "locked": false,
     "schema_version": 3,
     "solution": true,
     "task": false
    }
   },
   "outputs": [],
   "source": [
    "def log_loss_vectorized(w, b,X, y, alpha=0):\n",
    "    \"\"\"\n",
    "    log loss function WITHOUT FOR LOOPs\n",
    "    \n",
    "    Returns a tuple of:\n",
    "    - loss \n",
    "    - gradient with respect to weights w\n",
    "    \"\"\"\n",
    "    loss = 0.0\n",
    "    dw = np.zeros_like(w)\n",
    "    \n",
    "    # YOUR CODE HERE\n",
    "    sig = sigmoid(X.dot(w) + b)\n",
    "    \n",
    "    loss -= sum(y * np.log(sig) + (1 - y) * np.log(1 - sig))\n",
    "    loss = (loss + alpha * w.transpose().dot(w)) / X.shape[0]\n",
    "    \n",
    "    dw = ((2 * alpha * w) + (X.transpose().dot(sig - y))) / X.shape[0]\n",
    "    \n",
    "    db = np.sum(sig - y) / X.shape[0]\n",
    "    \n",
    "    return loss, dw, np.array(db).reshape(1,)"
   ]
  },
  {
   "cell_type": "code",
   "execution_count": 14,
   "id": "c425e768",
   "metadata": {
    "deletable": false,
    "editable": false,
    "nbgrader": {
     "cell_type": "code",
     "checksum": "f415c75f4653f455eeeccba9f7ad1676",
     "grade": true,
     "grade_id": "cell-ca14e49ada130789",
     "locked": true,
     "points": 1,
     "schema_version": 3,
     "solution": false,
     "task": false
    }
   },
   "outputs": [
    {
     "name": "stdout",
     "output_type": "stream",
     "text": [
      "Loss error :  1.590320641547433e-16\n",
      "Gradient check w\n",
      "numerical: -1.496190 analytic: -1.496190, relative error: 9.438344e-10\n",
      "numerical: 0.032599 analytic: 0.032599, relative error: 3.399354e-11\n",
      "numerical: 7.877575 analytic: 7.877576, relative error: 2.331459e-08\n",
      "numerical: -0.000324 analytic: -0.000324, relative error: 1.753830e-09\n",
      "numerical: -0.000277 analytic: -0.000277, relative error: 1.498908e-08\n",
      "numerical: 0.009376 analytic: 0.009376, relative error: 3.169600e-10\n",
      "numerical: -0.138444 analytic: -0.138444, relative error: 6.360337e-11\n",
      "numerical: -1.280233 analytic: -1.280233, relative error: 4.659127e-10\n",
      "numerical: 0.017385 analytic: 0.017385, relative error: 1.116616e-09\n",
      "numerical: 7.877575 analytic: 7.877576, relative error: 2.331459e-08\n",
      "numerical: -0.305242 analytic: -0.305242, relative error: 1.025588e-09\n",
      "numerical: -0.138444 analytic: -0.138444, relative error: 6.360337e-11\n",
      "numerical: 0.012817 analytic: 0.012817, relative error: 2.341919e-09\n",
      "numerical: -0.000277 analytic: -0.000277, relative error: 1.498908e-08\n",
      "numerical: -0.000888 analytic: -0.000888, relative error: 3.329868e-08\n",
      "Gradient check bias\n",
      "numerical: -0.111732 analytic: -0.111732, relative error: 2.696785e-11\n",
      "numerical: -0.111732 analytic: -0.111732, relative error: 2.696785e-11\n",
      "numerical: -0.111732 analytic: -0.111732, relative error: 2.696785e-11\n",
      "numerical: -0.111732 analytic: -0.111732, relative error: 2.696785e-11\n",
      "numerical: -0.111732 analytic: -0.111732, relative error: 2.696785e-11\n",
      "numerical: -0.111732 analytic: -0.111732, relative error: 2.696785e-11\n",
      "numerical: -0.111732 analytic: -0.111732, relative error: 2.696785e-11\n",
      "numerical: -0.111732 analytic: -0.111732, relative error: 2.696785e-11\n",
      "numerical: -0.111732 analytic: -0.111732, relative error: 2.696785e-11\n",
      "numerical: -0.111732 analytic: -0.111732, relative error: 2.696785e-11\n",
      "numerical: -0.111732 analytic: -0.111732, relative error: 2.696785e-11\n",
      "numerical: -0.111732 analytic: -0.111732, relative error: 2.696785e-11\n",
      "numerical: -0.111732 analytic: -0.111732, relative error: 2.696785e-11\n",
      "numerical: -0.111732 analytic: -0.111732, relative error: 2.696785e-11\n",
      "numerical: -0.111732 analytic: -0.111732, relative error: 2.696785e-11\n"
     ]
    }
   ],
   "source": [
    "y_pred_0 = sigmoid(X_train2 @ w2 + b2)\n",
    "y_pred = np.vstack([1-y_pred_0, y_pred_0]).T\n",
    "sk_loss = log_loss(y_train2, y_pred)\n",
    "\n",
    "loss, dw2, db2 = log_loss_vectorized(w2, b2, X_train2, y_train2, alpha=0)\n",
    "print(\"Loss error : \",rel_error(loss, sk_loss))\n",
    "assert rel_error(loss, sk_loss) < 1e-9\n",
    "\n",
    "print(\"Gradient check w\")\n",
    "# Check with numerical gradient w\n",
    "f = lambda w2: log_loss_vectorized(w2, b2, X_train2, y_train2, alpha=0)[0]\n",
    "grad_numerical = grad_check_sparse(f, w2, dw2, 15, error=1e-4)\n",
    "\n",
    "print(\"Gradient check bias\")\n",
    "# Check with numerical gradient b\n",
    "f2 = lambda b2: log_loss_vectorized(w2, b2, X_train2, y_train2, alpha=0)[0]\n",
    "grad_numerical = grad_check_sparse(f2, b2, db2, 15,  error=1e-5)"
   ]
  },
  {
   "cell_type": "markdown",
   "id": "dc7be5da",
   "metadata": {},
   "source": [
    "# Vectorized with regularization"
   ]
  },
  {
   "cell_type": "code",
   "execution_count": 15,
   "id": "a4e09127",
   "metadata": {
    "deletable": false,
    "editable": false,
    "nbgrader": {
     "cell_type": "code",
     "checksum": "53e97adc2666d529eff9ba1abcd3756a",
     "grade": true,
     "grade_id": "cell-bce082fccf8b7057",
     "locked": true,
     "points": 1,
     "schema_version": 3,
     "solution": false,
     "task": false
    }
   },
   "outputs": [
    {
     "name": "stdout",
     "output_type": "stream",
     "text": [
      "Gradient check w\n",
      "numerical: 0.032599 analytic: 0.032599, relative error: 3.671414e-11\n",
      "numerical: 108.359010 analytic: 108.359550, relative error: 2.488701e-06\n",
      "numerical: -0.000887 analytic: -0.000887, relative error: 3.477619e-08\n",
      "numerical: 0.236599 analytic: 0.236599, relative error: 6.657051e-11\n",
      "numerical: 0.236599 analytic: 0.236599, relative error: 6.657051e-11\n",
      "numerical: 0.003799 analytic: 0.003799, relative error: 3.317074e-10\n",
      "numerical: 0.017385 analytic: 0.017385, relative error: 1.285784e-09\n",
      "numerical: -0.019884 analytic: -0.019884, relative error: 2.613203e-10\n",
      "numerical: -0.019884 analytic: -0.019884, relative error: 2.613203e-10\n",
      "numerical: -0.015824 analytic: -0.015824, relative error: 1.601730e-11\n",
      "numerical: -1.280233 analytic: -1.280233, relative error: 4.649856e-10\n",
      "numerical: 0.017069 analytic: 0.017069, relative error: 1.242419e-09\n",
      "numerical: -0.015824 analytic: -0.015824, relative error: 1.601730e-11\n",
      "numerical: -0.006550 analytic: -0.006550, relative error: 3.098654e-09\n",
      "numerical: 0.003799 analytic: 0.003799, relative error: 3.317074e-10\n",
      "Gradient check bias\n",
      "numerical: -0.111732 analytic: -0.111732, relative error: 2.696785e-11\n",
      "numerical: -0.111732 analytic: -0.111732, relative error: 2.696785e-11\n",
      "numerical: -0.111732 analytic: -0.111732, relative error: 2.696785e-11\n",
      "numerical: -0.111732 analytic: -0.111732, relative error: 2.696785e-11\n",
      "numerical: -0.111732 analytic: -0.111732, relative error: 2.696785e-11\n",
      "numerical: -0.111732 analytic: -0.111732, relative error: 2.696785e-11\n",
      "numerical: -0.111732 analytic: -0.111732, relative error: 2.696785e-11\n",
      "numerical: -0.111732 analytic: -0.111732, relative error: 2.696785e-11\n",
      "numerical: -0.111732 analytic: -0.111732, relative error: 2.696785e-11\n",
      "numerical: -0.111732 analytic: -0.111732, relative error: 2.696785e-11\n",
      "numerical: -0.111732 analytic: -0.111732, relative error: 2.696785e-11\n",
      "numerical: -0.111732 analytic: -0.111732, relative error: 2.696785e-11\n",
      "numerical: -0.111732 analytic: -0.111732, relative error: 2.696785e-11\n",
      "numerical: -0.111732 analytic: -0.111732, relative error: 2.696785e-11\n",
      "numerical: -0.111732 analytic: -0.111732, relative error: 2.696785e-11\n"
     ]
    }
   ],
   "source": [
    "loss, dw2, db2 = log_loss_vectorized(w2, b2, X_train2, y_train2, alpha=1)\n",
    "\n",
    "print(\"Gradient check w\")\n",
    "# Check with numerical gradient w\n",
    "f = lambda w2: log_loss_vectorized(w2, b2, X_train2, y_train2, alpha=1)[0]\n",
    "grad_numerical = grad_check_sparse(f, w2, dw2, 15, error=1e-4)\n",
    "\n",
    "print(\"Gradient check bias\")\n",
    "# Check with numerical gradient b\n",
    "f2 = lambda b2: log_loss_vectorized(w2, b2, X_train2, y_train2, alpha=1)[0]\n",
    "grad_numerical = grad_check_sparse(f2, b2, db2, 15,  error=1e-5)"
   ]
  },
  {
   "cell_type": "markdown",
   "id": "06403ea0",
   "metadata": {},
   "source": [
    "# Gradient descent for Linear models"
   ]
  },
  {
   "cell_type": "code",
   "execution_count": 16,
   "id": "5039af1c",
   "metadata": {
    "deletable": false,
    "nbgrader": {
     "cell_type": "code",
     "checksum": "9a1783db1a1f1898028260238567bed7",
     "grade": false,
     "grade_id": "cell-485e52c0efd4f4a9",
     "locked": false,
     "schema_version": 3,
     "solution": true,
     "task": false
    }
   },
   "outputs": [],
   "source": [
    "class LinearModel():\n",
    "    def __init__(self):\n",
    "        self.w = None\n",
    "        self.b = None\n",
    "\n",
    "    def train(self, X, y, learning_rate=1e-3, alpha=0, num_iters=100, batch_size=200, verbose=False):\n",
    "        N, d = X.shape\n",
    "        \n",
    "        if self.w is None: # Initialization\n",
    "            self.w = 0.001 * np.random.randn(d)\n",
    "            self.b = 0.0\n",
    "\n",
    "        # Run stochastic gradient descent to optimize w\n",
    "        \n",
    "        loss_history = []\n",
    "        for it in range(num_iters):\n",
    "            X_batch = None\n",
    "            y_batch = None\n",
    "                                                               \n",
    "            # Sample batch_size elements in X_batch and y_batch\n",
    "            # X_batch shape is  (batch_size, d) and y_batch shape is (batch_size,)                                                                                          \n",
    "            # Hint: Use np.random.choice to generate indices\n",
    "            # YOUR CODE HERE\n",
    "            rand = np.random.choice(N, batch_size, replace=False)\n",
    "            \n",
    "            X_batch = X[rand,:]\n",
    "            y_batch = y[rand]\n",
    "            \n",
    "            # evaluate loss and gradient\n",
    "            loss, dw, db = self.loss(X_batch, y_batch, alpha)\n",
    "            loss_history.append(loss)\n",
    "\n",
    "            # perform parameter update                                                                \n",
    "            # Update the weights w and bias b using the gradient and the learning rate.          \n",
    "            # YOUR CODE HERE\n",
    "            self.w -= learning_rate * dw\n",
    "            self.b -= learning_rate * db\n",
    "            \n",
    "            if verbose and it % 10000 == 0:\n",
    "                print(\"iteration %d / %d: loss %f\" % (it, num_iters, loss))\n",
    "                \n",
    "        return loss_history\n",
    "\n",
    "    def predict(self, X):\n",
    "        pass\n",
    "\n",
    "    def loss(self, X_batch, y_batch, reg):\n",
    "        pass\n",
    "\n",
    "class LinearRegressor(LinearModel):\n",
    "    \"\"\" Linear regression \"\"\"\n",
    "\n",
    "    def loss(self, X_batch, y_batch, alpha):\n",
    "        return mse_loss_vectorized(self.w, self.b, X_batch, y_batch, alpha)\n",
    "    \n",
    "    def predict(self, X):\n",
    "        # YOUR CODE HERE\n",
    "        return X.dot(self.w) + self.b\n",
    "\n",
    "class LogisticRegressor(LinearModel):\n",
    "    \"\"\" Linear regression \"\"\"\n",
    "\n",
    "    def loss(self, X_batch, y_batch, alpha):\n",
    "        return log_loss_vectorized(self.w, self.b, X_batch, y_batch, alpha)\n",
    "    \n",
    "    def predict(self, X):\n",
    "        \"\"\" Return prediction labels vector of 0 or 1 \"\"\"\n",
    "        # YOUR CODE HERE\n",
    "        y = X.dot(self.w) + self.b\n",
    "        r = np.zeros_like(y)\n",
    "        for i in range(len(y)):\n",
    "            r[i] = 1 if y[i] > 0 else 0\n",
    "        return r"
   ]
  },
  {
   "cell_type": "markdown",
   "id": "7fa0aa79",
   "metadata": {},
   "source": [
    "## Linear regression with gradient descent"
   ]
  },
  {
   "cell_type": "code",
   "execution_count": 17,
   "id": "86925e00",
   "metadata": {
    "deletable": false,
    "editable": false,
    "nbgrader": {
     "cell_type": "code",
     "checksum": "30f1c271b16efe670214663c10743937",
     "grade": true,
     "grade_id": "cell-92f36a3b387a4277",
     "locked": true,
     "points": 2,
     "schema_version": 3,
     "solution": false,
     "task": false
    }
   },
   "outputs": [
    {
     "name": "stdout",
     "output_type": "stream",
     "text": [
      "iteration 0 / 75000: loss 27038.202583\n",
      "iteration 10000 / 75000: loss 3693.466885\n",
      "iteration 20000 / 75000: loss 2446.433191\n",
      "iteration 30000 / 75000: loss 2670.691459\n",
      "iteration 40000 / 75000: loss 2910.608874\n",
      "iteration 50000 / 75000: loss 2821.783531\n",
      "iteration 60000 / 75000: loss 2770.712888\n",
      "iteration 70000 / 75000: loss 2425.398640\n",
      "MSE scikit-learn: 2859.6963475867506\n",
      "MSE gradient descent model : 2885.6788695293612\n"
     ]
    }
   ],
   "source": [
    "from sklearn.linear_model import LinearRegression\n",
    "\n",
    "sk_model = LinearRegression(fit_intercept=True)\n",
    "sk_model.fit(X_train1, y_train1)\n",
    "sk_pred = sk_model.predict(X_train1)\n",
    "sk_mse = mean_squared_error(sk_pred, y_train1)\n",
    "\n",
    "model = LinearRegressor()\n",
    "model.train(X_train1, y_train1, num_iters=75000, batch_size=64, learning_rate=1e-2, verbose=True)\n",
    "pred = model.predict(X_train1)\n",
    "mse = mean_squared_error(pred, y_train1)\n",
    "\n",
    "print(\"MSE scikit-learn:\", sk_mse)\n",
    "print(\"MSE gradient descent model :\", mse)\n",
    "assert mse - sk_mse < 100"
   ]
  },
  {
   "cell_type": "markdown",
   "id": "d17c54d8",
   "metadata": {},
   "source": [
    "## Logistc regression with gradient descent"
   ]
  },
  {
   "cell_type": "code",
   "execution_count": 18,
   "id": "9219f422",
   "metadata": {
    "deletable": false,
    "editable": false,
    "nbgrader": {
     "cell_type": "code",
     "checksum": "c6196155f76f4eded31fefce67a76d60",
     "grade": true,
     "grade_id": "cell-925a2ddb5c1ba7ff",
     "locked": true,
     "points": 2,
     "schema_version": 3,
     "solution": false,
     "task": false
    }
   },
   "outputs": [
    {
     "name": "stdout",
     "output_type": "stream",
     "text": [
      "iteration 0 / 75000: loss 0.692649\n",
      "iteration 10000 / 75000: loss 0.077008\n",
      "iteration 20000 / 75000: loss 0.056454\n",
      "iteration 30000 / 75000: loss 0.079893\n",
      "iteration 40000 / 75000: loss 0.096626\n",
      "iteration 50000 / 75000: loss 0.030329\n",
      "iteration 60000 / 75000: loss 0.071384\n",
      "iteration 70000 / 75000: loss 0.019341\n",
      "Log-loss scikit-learn: 0.4249086712816093\n",
      "Log-loss gradiet descent model : 0.4249086712816093\n",
      "Error : 0.0\n"
     ]
    }
   ],
   "source": [
    "from sklearn.linear_model import LogisticRegression\n",
    "from sklearn.preprocessing import StandardScaler\n",
    "\n",
    "scaler = StandardScaler()\n",
    "X_train2 = scaler.fit_transform(X_train2)\n",
    "\n",
    "sk_model = LogisticRegression(fit_intercept=True)\n",
    "sk_model.fit(X_train2, y_train2)\n",
    "sk_pred = sk_model.predict(X_train2)\n",
    "sk_log_loss = log_loss(sk_pred, y_train2)\n",
    "\n",
    "model = LogisticRegressor()\n",
    "model.train(X_train2, y_train2, num_iters=75000, batch_size=64, learning_rate=1e-3, verbose=True)\n",
    "pred = model.predict(X_train2)\n",
    "model_log_loss = log_loss(pred, y_train2)\n",
    "\n",
    "print(\"Log-loss scikit-learn:\", sk_log_loss)\n",
    "print(\"Log-loss gradiet descent model :\", model_log_loss)\n",
    "print(\"Error :\", rel_error(sk_log_loss, model_log_loss))\n",
    "assert rel_error(sk_log_loss, model_log_loss) < 1e-7"
   ]
  },
  {
   "cell_type": "code",
   "execution_count": null,
   "id": "396f7431",
   "metadata": {},
   "outputs": [],
   "source": []
  }
 ],
 "metadata": {
  "kernelspec": {
   "display_name": "Python 3 (ipykernel)",
   "language": "python",
   "name": "python3"
  },
  "language_info": {
   "codemirror_mode": {
    "name": "ipython",
    "version": 3
   },
   "file_extension": ".py",
   "mimetype": "text/x-python",
   "name": "python",
   "nbconvert_exporter": "python",
   "pygments_lexer": "ipython3",
   "version": "3.9.12"
  }
 },
 "nbformat": 4,
 "nbformat_minor": 5
}
